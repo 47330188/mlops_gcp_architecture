{
 "cells": [
  {
   "cell_type": "code",
   "execution_count": null,
   "id": "afcc0a56-0e2c-4b0a-913c-8ab4d80d1503",
   "metadata": {},
   "outputs": [],
   "source": [
    "import os\n",
    "import mlflow\n",
    "import pandas as pd\n",
    "import numpy as np"
   ]
  },
  {
   "cell_type": "code",
   "execution_count": null,
   "id": "3799cb38-9661-4706-ba7d-6c95c1ac73e5",
   "metadata": {},
   "outputs": [],
   "source": [
    "mlflow sagemaker run-local -m s3://datapath-mlops-1/13/9451f0cf1cb24f95aa1b87a8fd9ead72/artifacts/logistic_regression -p 1244"
   ]
  },
  {
   "cell_type": "code",
   "execution_count": null,
   "id": "6d6fb3a0-6e14-43ec-af40-1b6bcdaa8a12",
   "metadata": {},
   "outputs": [],
   "source": [
    "mlflow sagemaker deploy -a $APP_NAME -m s3://datapath-mlops-1/13/9451f0cf1cb24f95aa1b87a8fd9ead72/artifacts/logistic_regression --region-name us-west-1"
   ]
  },
  {
   "cell_type": "code",
   "execution_count": null,
   "id": "579483e5-b9bc-4e05-86de-a7f3a303897b",
   "metadata": {},
   "outputs": [],
   "source": [
    "!pip install awscli --upgrade --user"
   ]
  },
  {
   "cell_type": "code",
   "execution_count": null,
   "id": "734f87d5-bc67-430f-a915-c15f787b3abe",
   "metadata": {},
   "outputs": [],
   "source": [
    "aws configure"
   ]
  },
  {
   "cell_type": "code",
   "execution_count": null,
   "id": "a27ff7a4-2b56-4e76-979e-b8088201ccb2",
   "metadata": {},
   "outputs": [],
   "source": []
  },
  {
   "cell_type": "code",
   "execution_count": null,
   "id": "4ff1fc42-7d97-48da-8808-502dd7d5b8a3",
   "metadata": {},
   "outputs": [],
   "source": []
  },
  {
   "cell_type": "code",
   "execution_count": null,
   "id": "b00a583f-b23d-4deb-924d-d1a23e182d8a",
   "metadata": {},
   "outputs": [],
   "source": [
    "mlflow sagemaker build-and-push-container --model_uri s3://datapath-mlops-1/13/9451f0cf1cb24f95aa1b87a8fd9ead72/artifacts/logistic_regression"
   ]
  },
  {
   "cell_type": "code",
   "execution_count": null,
   "id": "1cfc0b33-bfcb-4510-aaa5-c89b82667065",
   "metadata": {},
   "outputs": [],
   "source": []
  },
  {
   "cell_type": "code",
   "execution_count": null,
   "id": "b16c96c0-d027-422b-967d-20da7f0415a9",
   "metadata": {},
   "outputs": [],
   "source": [
    "import mlflow.sagemaker as mfs\n",
    "\n",
    "experiment_id = '10'\n",
    "run_id = 'b9bfebd99bc3403bad43c1d35fdace67'\n",
    "region = 'us-west-1'\n",
    "aws_id = '114899394146'\n",
    "arn = 'arn:aws:iam::114899394146:role/aws-sagemaker-for-deploy-ml-model'\n",
    "app_name = 'model-application'\n",
    "model_uri = f's3://datapath-mlops-1/{experiment_id}/{run_id}/artifacts/logistic_regression_model'\n",
    "tag_id = '1.18.0'\n",
    "\n",
    "image_url = aws_id + '.dkr.ecr.' + region + '.amazonaws.com/mlflow-pyfunc:' + tag_id\n",
    "\n",
    "\n",
    "mfs.deploy(app_name,\n",
    "\tmodel_uri=model_uri,\n",
    "\tregion_name=region,\n",
    "\tmode='create',\n",
    "\texecution_role_arn=arn,\n",
    "\timage_url=image_url)"
   ]
  },
  {
   "cell_type": "code",
   "execution_count": null,
   "id": "b832f9df-c6b6-4181-b926-cb48cc542362",
   "metadata": {},
   "outputs": [],
   "source": [
    "mlflow.__version__"
   ]
  },
  {
   "cell_type": "code",
   "execution_count": null,
   "id": "665a0098-01af-4c34-a1c9-92b0e334fdb2",
   "metadata": {},
   "outputs": [],
   "source": [
    "mlflow artifacts download --run-id b9bfebd99bc3403bad43c1d35fdace67"
   ]
  },
  {
   "cell_type": "code",
   "execution_count": null,
   "id": "99cbeb69-1f43-40f2-8e52-ef99e94d9e54",
   "metadata": {},
   "outputs": [],
   "source": []
  },
  {
   "cell_type": "code",
   "execution_count": null,
   "id": "b704e968-c4be-4a9a-ac19-aad2ffa31393",
   "metadata": {},
   "outputs": [],
   "source": []
  },
  {
   "cell_type": "code",
   "execution_count": null,
   "id": "6e00006f-0336-4d75-aae8-7b96b70afceb",
   "metadata": {},
   "outputs": [],
   "source": [
    "mlflow artifacts download --run-id b9bfebd99bc3403bad43c1d35fdace67 -d ./"
   ]
  },
  {
   "cell_type": "code",
   "execution_count": null,
   "id": "2f5fdbf1-db53-49a1-9186-ff0f8e2f16d1",
   "metadata": {},
   "outputs": [],
   "source": [
    "mlflow models serve -m \"models:/logistic_regression_model/Production\""
   ]
  },
  {
   "cell_type": "code",
   "execution_count": null,
   "id": "c74a58c6-7c70-4633-95a6-fa9032853dac",
   "metadata": {},
   "outputs": [],
   "source": [
    "import requests\n",
    "import pandas as pd\n",
    "\n",
    "dataframe = pd.read_csv(\"../data/output_data/x_test.csv\")\n",
    "\n",
    "columns = dataframe.columns.tolist()\n",
    "data = dataframe[:3].values.tolist()\n",
    "\n",
    "url = \"http://127.0.0.1:1234/invocations\"\n",
    "data = {\n",
    "    \"columns\": columns, \"data\": data\n",
    "}\n",
    "response = requests.post(url, data=data)"
   ]
  },
  {
   "cell_type": "code",
   "execution_count": null,
   "id": "278f3f7a-136d-41c3-86c9-8cb27bc5d262",
   "metadata": {},
   "outputs": [],
   "source": [
    "mlflow models build-docker -n mlops-model-datapath -m s3://datapath-mlops-1/10/21042c01d4f84bb0aabe0daa35a836b4/artifacts/logistic_regression_model"
   ]
  },
  {
   "cell_type": "code",
   "execution_count": null,
   "id": "80b93aab-dd9a-4507-87a3-7d099d6692df",
   "metadata": {},
   "outputs": [],
   "source": [
    "mlflow sagemaker build-and-push-container --no-build -c mlops-model-datapath "
   ]
  },
  {
   "cell_type": "code",
   "execution_count": null,
   "id": "342affb8-26b2-41c2-a3b1-0c2a7efcd34b",
   "metadata": {},
   "outputs": [],
   "source": []
  },
  {
   "cell_type": "code",
   "execution_count": null,
   "id": "d91e491d-9338-4a7a-b812-1a95fd33b048",
   "metadata": {},
   "outputs": [],
   "source": []
  },
  {
   "cell_type": "code",
   "execution_count": null,
   "id": "7f842bc8-799c-44ff-88b3-7ddc1c6e8c79",
   "metadata": {},
   "outputs": [],
   "source": [
    "mlflow sagemaker push-model -n mlops-model-2 -m s3://datapath-mlops-1/10/21042c01d4f84bb0aabe0daa35a836b4/artifacts/logistic_regression_model -e arn:aws:iam::114899394146:role/aws-sagemaker-for-deploy-ml-model"
   ]
  },
  {
   "cell_type": "code",
   "execution_count": null,
   "id": "95fc9f1a-693f-4a43-a6bc-d6f9ea0b3f9a",
   "metadata": {},
   "outputs": [],
   "source": []
  }
 ],
 "metadata": {
  "kernelspec": {
   "display_name": "Python 3 (ipykernel)",
   "language": "python",
   "name": "python3"
  },
  "language_info": {
   "codemirror_mode": {
    "name": "ipython",
    "version": 3
   },
   "file_extension": ".py",
   "mimetype": "text/x-python",
   "name": "python",
   "nbconvert_exporter": "python",
   "pygments_lexer": "ipython3",
   "version": "3.11.4"
  }
 },
 "nbformat": 4,
 "nbformat_minor": 5
}
