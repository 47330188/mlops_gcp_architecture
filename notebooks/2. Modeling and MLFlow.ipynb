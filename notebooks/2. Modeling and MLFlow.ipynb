{
 "cells": [
  {
   "cell_type": "markdown",
   "id": "4eca70b6-0c05-4605-aab6-92142b8993e9",
   "metadata": {},
   "source": [
    "**1. Start Local MLflow tracking server:** <br> `mlflow server --backend-store-uri sqlite:///mlflow.db --default-artifact-root ./mlruns`\n",
    "\n",
    "The MLflow model registry does not work unless your metadata is stored in a SQL database\n",
    "\n",
    "extra parameters: <br>\n",
    "`--host 0.0.0.0 -p 5000 --gunicorn-opts \"--timeout 180\"`\n",
    "\n",
    "`backend-store-uri` represents the location and type of database we want to use to store high level metadata associated with our runs. <br> `default-artifact-root` specifies a separate path where artifacts should be stored. A separate path is provided for artifacts because artifacts can be very large and therefore may need to be stored in a cloud-based data store such as S3 for some projects. \n",
    "\n",
    "**2. Visit MLflow UI url:** <br> `http://127.0.0.1:5000` <br>\n",
    "Solo existirá el experimento \"Default\".\n",
    "\n",
    "**3. Set Tracking URI:** <br>\n",
    "`mlflow.set_tracking_uri('http://127.0.0.1:5000')` <br>\n",
    "Un paso muy importante para decirle a MLflow dónde está el servidor de seguimiento del modelo.\n",
    "\n",
    "**4. Create experiment or use existing one**: <br>\n",
    "`mlflow.set_experiment(_experiment_name)`\n",
    "\n",
    "**5. Track things:** <br>\n",
    "E.g. `mlflow.log_metrics(metrics)`\n",
    "\n",
    "**6. Save model on MLflow Model Registry:** <br>\n",
    "`model_uri = mlflow.get_artifact_uri(\"logistic_regression_model\")` <br>\n",
    "`MODEL_NAME = \"logistic_regression_model\"` <br>\n",
    "`mv = mlflow.register_model(model_uri, MODEL_NAME)`\n",
    "\n",
    "**7. Load a model and predict:** <br>\n",
    "`mlflow.set_tracking_uri('http://127.0.0.1:5000')` <br>\n",
    "`_model_name = \"logistic_regression_model\"` <br>\n",
    "`version = \"4\"` <br>\n",
    "`my_clf = mlflow.pyfunc.load_model(f\"models:/{MODEL_NAME}/{version}\")`"
   ]
  },
  {
   "cell_type": "code",
   "execution_count": null,
   "id": "b27ff04f-c518-4c49-b507-c24109b7c1b3",
   "metadata": {},
   "outputs": [],
   "source": [
    "import os\n",
    "import mlflow\n",
    "import pandas as pd\n",
    "import numpy as np\n",
    "from sklearn.preprocessing import LabelEncoder\n",
    "from sklearn.model_selection import train_test_split\n",
    "from sklearn.preprocessing import MinMaxScaler\n",
    "from sklearn.model_selection import cross_val_score\n",
    "\n",
    "from sklearn.metrics import (\n",
    "    accuracy_score,\n",
    "    f1_score,\n",
    ")\n",
    "\n",
    "from feature_engine.encoding import (\n",
    "    OrdinalEncoder,\n",
    "    OneHotEncoder,\n",
    ")\n",
    "\n",
    "from feature_engine.transformation import (\n",
    "    YeoJohnsonTransformer,\n",
    ")\n",
    "\n",
    "from sklearn.linear_model import LogisticRegression\n",
    "\n",
    "pd.set_option('display.max_columns', 25)"
   ]
  },
  {
   "cell_type": "code",
   "execution_count": null,
   "id": "d4430fb8-d91a-4143-b06d-9c029125559e",
   "metadata": {},
   "outputs": [],
   "source": [
    "data = pd.read_csv(\"../data/input_data/telco_customer_churn_1.csv\")\n",
    "data.head(3)"
   ]
  },
  {
   "cell_type": "code",
   "execution_count": null,
   "id": "ceadeb33-c771-4374-8b4c-974cfba77133",
   "metadata": {
    "tags": []
   },
   "outputs": [],
   "source": [
    "# replace NaNs of TotalCharges with '-1' and covert col to float (from string)\n",
    "data['TotalCharges'] = data['TotalCharges'].str.replace(' ', '-1').astype(float)"
   ]
  },
  {
   "cell_type": "markdown",
   "id": "de0f16b1-c540-4732-9348-7948b25ce7f9",
   "metadata": {},
   "source": [
    "# Train-Test Split"
   ]
  },
  {
   "cell_type": "code",
   "execution_count": null,
   "id": "cd419ae1-f2ef-486d-b279-55ea14838a39",
   "metadata": {},
   "outputs": [],
   "source": [
    "X_train, X_test, y_train, y_test = train_test_split(\n",
    "    data.drop(['customerID', 'Churn'], axis=1),\n",
    "    data['Churn'],\n",
    "    test_size=0.2,\n",
    "    random_state=0,\n",
    ")"
   ]
  },
  {
   "cell_type": "markdown",
   "id": "82174305-ae4a-4a0f-8e81-6ed5e0747e76",
   "metadata": {},
   "source": [
    "# Categorical Features"
   ]
  },
  {
   "cell_type": "code",
   "execution_count": null,
   "id": "30d62176-21fe-4cad-a761-aac642193546",
   "metadata": {
    "tags": []
   },
   "outputs": [],
   "source": [
    "cat_vars_onehot = ['gender', 'Partner', 'Dependents', 'PhoneService', 'PaperlessBilling']\n",
    "cat_vars_ordinal_arbitrary = ['MultipleLines', 'InternetService', 'OnlineSecurity', 'OnlineBackup',\n",
    "                    'DeviceProtection', 'TechSupport', 'StreamingTV', 'StreamingMovies', 'Contract', 'PaymentMethod']\n",
    "\n",
    "ordinal_encoder_arbitrary = OrdinalEncoder(encoding_method='arbitrary', variables=cat_vars_ordinal_arbitrary)\n",
    "ordinal_encoder_arbitrary.fit(X_train, y_train)\n",
    "\n",
    "onehot_encoder = OneHotEncoder(variables=cat_vars_onehot)\n",
    "onehot_encoder.fit(X_train)\n",
    "\n",
    "X_train = ordinal_encoder_arbitrary.transform(X_train)\n",
    "X_test = ordinal_encoder_arbitrary.transform(X_test)\n",
    "\n",
    "X_train = onehot_encoder.transform(X_train)\n",
    "X_test = onehot_encoder.transform(X_test)"
   ]
  },
  {
   "cell_type": "markdown",
   "id": "c5acfe05-9c10-4f82-a411-ba931f00b7ae",
   "metadata": {},
   "source": [
    "# Numerical Features"
   ]
  },
  {
   "cell_type": "code",
   "execution_count": null,
   "id": "f37432b4-8f6d-48d4-bc77-a37b028db8ae",
   "metadata": {},
   "outputs": [],
   "source": [
    "num_vars_yeo_johnson = ['TotalCharges']\n",
    "\n",
    "yeo_transformer = YeoJohnsonTransformer(variables=num_vars_yeo_johnson)\n",
    "\n",
    "X_train = yeo_transformer.fit_transform(X_train)\n",
    "X_test = yeo_transformer.transform(X_test)"
   ]
  },
  {
   "cell_type": "markdown",
   "id": "f9becf28-efe6-4ef1-94d8-fe8e4235a0d0",
   "metadata": {},
   "source": [
    "# Target"
   ]
  },
  {
   "cell_type": "code",
   "execution_count": null,
   "id": "23b38f48-e281-4f7c-a1e4-bc4aab6e03db",
   "metadata": {},
   "outputs": [],
   "source": [
    "le = LabelEncoder()\n",
    "le.fit(y_train)\n",
    "\n",
    "y_train = le.transform(y_train)\n",
    "y_test = le.transform(y_test)"
   ]
  },
  {
   "cell_type": "markdown",
   "id": "a7211f11-237d-480d-b46e-b2ca53173e31",
   "metadata": {},
   "source": [
    "# Scaling"
   ]
  },
  {
   "cell_type": "code",
   "execution_count": null,
   "id": "87c44b4c-d47a-4426-8bda-e515ad106a66",
   "metadata": {},
   "outputs": [],
   "source": [
    "min_max_scaler = MinMaxScaler()\n",
    "min_max_scaler.fit(X_train) \n",
    "\n",
    "X_train = pd.DataFrame(min_max_scaler.transform(X_train), columns=X_train.columns)\n",
    "X_test = pd.DataFrame(min_max_scaler.transform(X_test), columns=X_train.columns)"
   ]
  },
  {
   "cell_type": "markdown",
   "id": "5fc6a526-3c42-404e-b1c0-7741ae574de7",
   "metadata": {},
   "source": [
    "# ML"
   ]
  },
  {
   "cell_type": "code",
   "execution_count": null,
   "id": "0ec3eb74-976d-4512-9806-2bb969725f6b",
   "metadata": {
    "tags": []
   },
   "outputs": [],
   "source": [
    "# MLflow: tell MLflow where the model tracking server is\n",
    "# mlflow.set_tracking_uri(os.environ[\"MLFLOW_TRACKING_URI\"])\n",
    "\n",
    "# MLflow: experiment name\n",
    "MODEL_NAME = \"logistic_regression_model\"\n",
    "_experiment_name = \"churn-prediction\"\n",
    "mlflow.set_experiment(_experiment_name)\n",
    "\n",
    "with mlflow.start_run() as run:\n",
    "\n",
    "    # MLflow: print run specific info\n",
    "    print(f\"\\nActive run_id: {run.info.run_id}\")\n",
    "\n",
    "    # Choose parameters\n",
    "    param_C = 0.8\n",
    "    param_max_iter = 200\n",
    "    clf = LogisticRegression(C=param_C, max_iter=param_max_iter, random_state=0)\n",
    "\n",
    "    # Train on all set and evaluate on test\n",
    "    clf.fit(X_train, y_train)\n",
    "    y_test_pred = clf.predict(X_test)\n",
    "    test_accuracy = accuracy_score(y_test, y_test_pred)\n",
    "    test_f1 = f1_score(y_test, y_test_pred)\n",
    "\n",
    "    # Cross validation on train set\n",
    "    cv_accuracy = cross_val_score(clf, X_train, y_train, cv=5, scoring='accuracy').mean()\n",
    "    cv_f1 = cross_val_score(clf, X_train, y_train, cv=5, scoring='f1_macro').mean()\n",
    "\n",
    "    print(f\"CV accuracy: {cv_accuracy:.2f}, Test accuracy: {test_accuracy:.2f}\\n\"\n",
    "          f\"CV f1: {cv_f1:.2f}, Test f1: {test_f1:.2f}\")\n",
    "\n",
    "    # MLflow: Log the metrics\n",
    "    metrics = {\"cv_accuracy\": cv_accuracy, \"cv_f1\": cv_f1, \"test_accuracy\": test_accuracy, \"test_f1\": test_f1}\n",
    "    mlflow.log_metrics(metrics)\n",
    "\n",
    "    # MLflow: Log the parameters\n",
    "    params = {\"C\": param_C, \"max_iter\": param_max_iter}\n",
    "    mlflow.log_params(params)\n",
    "\n",
    "    # MLflow log the model\n",
    "    mlflow.sklearn.log_model(clf, \"logistic_regression_model\")\n",
    "\n",
    "    # MLflow: save model on MLflow Model Registry\n",
    "    model_uri = mlflow.get_artifact_uri(\"logistic_regression_model\")\n",
    "    mv = mlflow.register_model(model_uri, MODEL_NAME)"
   ]
  },
  {
   "cell_type": "code",
   "execution_count": null,
   "id": "f8d1c227-8a54-4e9f-a61d-531c934e8269",
   "metadata": {},
   "outputs": [],
   "source": [
    "# Load a model and predict\n",
    "# mlflow.set_tracking_uri(os.environ[\"MLFLOW_TRACKING_URI\"])\n",
    "\n",
    "version = \"latest\"\n",
    "my_clf = mlflow.pyfunc.load_model(f\"models:/{MODEL_NAME}/{version}\")"
   ]
  },
  {
   "cell_type": "code",
   "execution_count": null,
   "id": "92e9968d-32a3-4ee6-a53f-805fe1546d59",
   "metadata": {},
   "outputs": [],
   "source": [
    "print(my_clf.predict(X_test))"
   ]
  },
  {
   "cell_type": "code",
   "execution_count": null,
   "id": "dc9543e8-6711-410c-8b3f-6ee17070b3ac",
   "metadata": {},
   "outputs": [],
   "source": [
    "my_clf.metadata.to_dict()"
   ]
  },
  {
   "cell_type": "code",
   "execution_count": null,
   "id": "2eaf74c3-bd8b-4cdd-bf68-ac28537f83c4",
   "metadata": {},
   "outputs": [],
   "source": []
  }
 ],
 "metadata": {
  "kernelspec": {
   "display_name": "Python 3 (ipykernel)",
   "language": "python",
   "name": "python3"
  },
  "language_info": {
   "codemirror_mode": {
    "name": "ipython",
    "version": 3
   },
   "file_extension": ".py",
   "mimetype": "text/x-python",
   "name": "python",
   "nbconvert_exporter": "python",
   "pygments_lexer": "ipython3",
   "version": "3.11.4"
  }
 },
 "nbformat": 4,
 "nbformat_minor": 5
}
